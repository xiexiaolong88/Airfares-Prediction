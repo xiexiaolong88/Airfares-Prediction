{
 "cells": [
  {
   "cell_type": "markdown",
   "metadata": {},
   "source": [
    "# <b>Predicting Airfares on New Routes!!!!</b>\n",
    "## Problem Description:\n",
    "Several new airports have opened in major cities, opening the market for new routes (a route refers to a pair of airports), and Southwest Airlines has not announced whether it will cover routes to/from these cities. In order to price flights on these routes, a major airline collected information on 638 air routes in the United States. Some factors are known about these new routes: the distance travelled, demographics of the city where the new airport is located, and whether this city is a vacation destination. Other factors are yet unknown (e.g., the number of passengers that will travel this route). A major unknown factor is whether Southwest Airlines or another discount airline will travel on these new routes. Southwest’s strategy (point-to-point routes covering only major cities, use of secondary airports, standardized fleet, low fares) has been very different from the model followed by the older and bigger airlines (hub-and-spoke model extending to even smaller cities, presence in primary airports, variety in fleet, pursuit of high-end business travellers). The presence of discount airlines is therefore believed to reduce the fares greatly. The file <b>Airfares.xlsx</b> contains real data for existing routes that were collected by a major airlines\n"
   ]
  },
  {
   "cell_type": "code",
   "execution_count": 49,
   "metadata": {},
   "outputs": [],
   "source": [
    "#Importing all the necessary packages\n",
    "import numpy as np\n",
    "import pandas as pd\n",
    "import matplotlib.pyplot as plt\n",
    "import statsmodels.api as sm\n",
    "from sklearn.model_selection import train_test_split\n",
    "from sklearn.linear_model import LinearRegression\n",
    "from sklearn.tree import DecisionTreeRegressor\n",
    "from sklearn.ensemble import RandomForestRegressor\n",
    "from sklearn.metrics import mean_squared_error, r2_score\n",
    "from sklearn.preprocessing import StandardScaler"
   ]
  },
  {
   "cell_type": "code",
   "execution_count": 50,
   "metadata": {},
   "outputs": [],
   "source": [
    "#reading the file\n",
    "df = pd.read_excel('Airfares1.xlsx', sheet_name='data')\n",
    "#Making a copy of the dataframe\n",
    "df_copy = df.copy()"
   ]
  },
  {
   "cell_type": "code",
   "execution_count": 51,
   "metadata": {},
   "outputs": [
    {
     "name": "stdout",
     "output_type": "stream",
     "text": [
      "<class 'pandas.core.frame.DataFrame'>\n",
      "<class 'pandas.core.frame.DataFrame'>\n"
     ]
    }
   ],
   "source": [
    "#Check the type of the read object\n",
    "print(type(df))\n",
    "print(type(df_copy))\n"
   ]
  },
  {
   "cell_type": "code",
   "execution_count": 52,
   "metadata": {},
   "outputs": [
    {
     "data": {
      "text/html": [
       "<div>\n",
       "<style scoped>\n",
       "    .dataframe tbody tr th:only-of-type {\n",
       "        vertical-align: middle;\n",
       "    }\n",
       "\n",
       "    .dataframe tbody tr th {\n",
       "        vertical-align: top;\n",
       "    }\n",
       "\n",
       "    .dataframe thead th {\n",
       "        text-align: right;\n",
       "    }\n",
       "</style>\n",
       "<table border=\"1\" class=\"dataframe\">\n",
       "  <thead>\n",
       "    <tr style=\"text-align: right;\">\n",
       "      <th></th>\n",
       "      <th>S_CODE</th>\n",
       "      <th>S_CITY</th>\n",
       "      <th>E_CODE</th>\n",
       "      <th>E_CITY</th>\n",
       "      <th>COUPON</th>\n",
       "      <th>NEW</th>\n",
       "      <th>VACATION</th>\n",
       "      <th>SW</th>\n",
       "      <th>HI</th>\n",
       "      <th>S_INCOME</th>\n",
       "      <th>E_INCOME</th>\n",
       "      <th>S_POP</th>\n",
       "      <th>E_POP</th>\n",
       "      <th>SLOT</th>\n",
       "      <th>GATE</th>\n",
       "      <th>DISTANCE</th>\n",
       "      <th>PAX</th>\n",
       "      <th>FARE</th>\n",
       "    </tr>\n",
       "  </thead>\n",
       "  <tbody>\n",
       "    <tr>\n",
       "      <th>0</th>\n",
       "      <td>*</td>\n",
       "      <td>Dallas/Fort Worth   TX</td>\n",
       "      <td>*</td>\n",
       "      <td>Amarillo            TX</td>\n",
       "      <td>1.00</td>\n",
       "      <td>3</td>\n",
       "      <td>No</td>\n",
       "      <td>Yes</td>\n",
       "      <td>5291.991341</td>\n",
       "      <td>28637</td>\n",
       "      <td>21112</td>\n",
       "      <td>3036732</td>\n",
       "      <td>205711</td>\n",
       "      <td>Free</td>\n",
       "      <td>Free</td>\n",
       "      <td>312</td>\n",
       "      <td>7864</td>\n",
       "      <td>64.11</td>\n",
       "    </tr>\n",
       "    <tr>\n",
       "      <th>1</th>\n",
       "      <td>*</td>\n",
       "      <td>Atlanta             GA</td>\n",
       "      <td>*</td>\n",
       "      <td>Baltimore/Wash Intl MD</td>\n",
       "      <td>1.06</td>\n",
       "      <td>3</td>\n",
       "      <td>No</td>\n",
       "      <td>No</td>\n",
       "      <td>5419.160907</td>\n",
       "      <td>26993</td>\n",
       "      <td>29838</td>\n",
       "      <td>3532657</td>\n",
       "      <td>7145897</td>\n",
       "      <td>Free</td>\n",
       "      <td>Free</td>\n",
       "      <td>576</td>\n",
       "      <td>8820</td>\n",
       "      <td>174.47</td>\n",
       "    </tr>\n",
       "    <tr>\n",
       "      <th>2</th>\n",
       "      <td>*</td>\n",
       "      <td>Boston              MA</td>\n",
       "      <td>*</td>\n",
       "      <td>Baltimore/Wash Intl MD</td>\n",
       "      <td>1.06</td>\n",
       "      <td>3</td>\n",
       "      <td>No</td>\n",
       "      <td>No</td>\n",
       "      <td>9185.283234</td>\n",
       "      <td>30124</td>\n",
       "      <td>29838</td>\n",
       "      <td>5787293</td>\n",
       "      <td>7145897</td>\n",
       "      <td>Free</td>\n",
       "      <td>Free</td>\n",
       "      <td>364</td>\n",
       "      <td>6452</td>\n",
       "      <td>207.76</td>\n",
       "    </tr>\n",
       "    <tr>\n",
       "      <th>3</th>\n",
       "      <td>ORD</td>\n",
       "      <td>Chicago             IL</td>\n",
       "      <td>*</td>\n",
       "      <td>Baltimore/Wash Intl MD</td>\n",
       "      <td>1.06</td>\n",
       "      <td>3</td>\n",
       "      <td>No</td>\n",
       "      <td>Yes</td>\n",
       "      <td>2657.351987</td>\n",
       "      <td>29260</td>\n",
       "      <td>29838</td>\n",
       "      <td>7830332</td>\n",
       "      <td>7145897</td>\n",
       "      <td>Controlled</td>\n",
       "      <td>Free</td>\n",
       "      <td>612</td>\n",
       "      <td>25144</td>\n",
       "      <td>85.47</td>\n",
       "    </tr>\n",
       "    <tr>\n",
       "      <th>4</th>\n",
       "      <td>MDW</td>\n",
       "      <td>Chicago             IL</td>\n",
       "      <td>*</td>\n",
       "      <td>Baltimore/Wash Intl MD</td>\n",
       "      <td>1.06</td>\n",
       "      <td>3</td>\n",
       "      <td>No</td>\n",
       "      <td>Yes</td>\n",
       "      <td>2657.351987</td>\n",
       "      <td>29260</td>\n",
       "      <td>29838</td>\n",
       "      <td>7830332</td>\n",
       "      <td>7145897</td>\n",
       "      <td>Free</td>\n",
       "      <td>Free</td>\n",
       "      <td>612</td>\n",
       "      <td>25144</td>\n",
       "      <td>85.47</td>\n",
       "    </tr>\n",
       "  </tbody>\n",
       "</table>\n",
       "</div>"
      ],
      "text/plain": [
       "  S_CODE                  S_CITY E_CODE                  E_CITY  COUPON  NEW  \\\n",
       "0      *  Dallas/Fort Worth   TX      *  Amarillo            TX    1.00    3   \n",
       "1      *  Atlanta             GA      *  Baltimore/Wash Intl MD    1.06    3   \n",
       "2      *  Boston              MA      *  Baltimore/Wash Intl MD    1.06    3   \n",
       "3    ORD  Chicago             IL      *  Baltimore/Wash Intl MD    1.06    3   \n",
       "4    MDW  Chicago             IL      *  Baltimore/Wash Intl MD    1.06    3   \n",
       "\n",
       "  VACATION   SW           HI  S_INCOME  E_INCOME    S_POP    E_POP  \\\n",
       "0       No  Yes  5291.991341     28637     21112  3036732   205711   \n",
       "1       No   No  5419.160907     26993     29838  3532657  7145897   \n",
       "2       No   No  9185.283234     30124     29838  5787293  7145897   \n",
       "3       No  Yes  2657.351987     29260     29838  7830332  7145897   \n",
       "4       No  Yes  2657.351987     29260     29838  7830332  7145897   \n",
       "\n",
       "         SLOT  GATE  DISTANCE    PAX    FARE  \n",
       "0        Free  Free       312   7864   64.11  \n",
       "1        Free  Free       576   8820  174.47  \n",
       "2        Free  Free       364   6452  207.76  \n",
       "3  Controlled  Free       612  25144   85.47  \n",
       "4        Free  Free       612  25144   85.47  "
      ]
     },
     "execution_count": 52,
     "metadata": {},
     "output_type": "execute_result"
    }
   ],
   "source": [
    "#Check the head of the dataframe to get some idea about how the data looks like:\n",
    "df.head()"
   ]
  },
  {
   "cell_type": "code",
   "execution_count": 53,
   "metadata": {},
   "outputs": [
    {
     "name": "stdout",
     "output_type": "stream",
     "text": [
      "Index(['S_CODE', 'S_CITY', 'E_CODE', 'E_CITY', 'COUPON', 'NEW', 'VACATION',\n",
      "       'SW', 'HI', 'S_INCOME', 'E_INCOME', 'S_POP', 'E_POP', 'SLOT', 'GATE',\n",
      "       'DISTANCE', 'PAX', 'FARE'],\n",
      "      dtype='object')\n"
     ]
    }
   ],
   "source": [
    "#Check the column names of the dataframe\n",
    "print(df.columns)"
   ]
  },
  {
   "cell_type": "markdown",
   "metadata": {},
   "source": [
    "Inorder to understand the data better, we will check what the variables are and what kind of data exists in the dataset"
   ]
  },
  {
   "cell_type": "markdown",
   "metadata": {},
   "source": [
    "<b>S_CODE</b> =  Starting airport’s code  \n",
    "<b>S_CITY</b> = Starting city  \n",
    "<b>E_CODE</b> = Ending airport’s code   \n",
    "<b>E_CITY</b> = Ending city  \n",
    "<b>COUPON</b> = Average number of coupons (a one-coupon flight is a non-stop flight, A two-coupon flight is a one stop flight, etc.) for that route  \n",
    "<b>NEW</b> = Number of new carriers entering that route  \n",
    "<b>VACATION</b> = Whether a vacation route (Yes) or not (No)  \n",
    "<b>SW</b> = Whether Southwest Airlines serves that route (Yes) or not (No)  \n",
    "<b>HI</b> = Herfindel Index - measure of market concentration  \n",
    "<b>S_INCOME</b> = Starting city’s average personal income  \n",
    "<b>E_INCOME</b> = Ending city’s average personal income  \n",
    "<b>S_POP</b> = Starting city’s population  \n",
    "<b>E_POP</b> = Ending city’s population  \n",
    "<b>SLOT</b> = Whether either endpoint airport is slot controlled or not; This is a measure of congestion  \n",
    "<b>GATE</b> = Whether either endpoint airport has gate constraints or not; This is another measure of airport congestion  \n",
    "<b>DISTANCE</b> =  Distance between two endpoint airports in miles  \n",
    "<b>PAX</b> = Number of passengers on that route during period of data collection  \n",
    "<b>FARE</b> = (the response) Average fare on that route  "
   ]
  },
  {
   "cell_type": "code",
   "execution_count": 54,
   "metadata": {},
   "outputs": [
    {
     "name": "stdout",
     "output_type": "stream",
     "text": [
      "<class 'pandas.core.frame.DataFrame'>\n",
      "RangeIndex: 638 entries, 0 to 637\n",
      "Data columns (total 18 columns):\n",
      "S_CODE      638 non-null object\n",
      "S_CITY      638 non-null object\n",
      "E_CODE      638 non-null object\n",
      "E_CITY      638 non-null object\n",
      "COUPON      638 non-null float64\n",
      "NEW         638 non-null int64\n",
      "VACATION    638 non-null object\n",
      "SW          638 non-null object\n",
      "HI          638 non-null float64\n",
      "S_INCOME    638 non-null int64\n",
      "E_INCOME    638 non-null int64\n",
      "S_POP       638 non-null int64\n",
      "E_POP       638 non-null int64\n",
      "SLOT        638 non-null object\n",
      "GATE        638 non-null object\n",
      "DISTANCE    638 non-null int64\n",
      "PAX         638 non-null int64\n",
      "FARE        638 non-null float64\n",
      "dtypes: float64(3), int64(7), object(8)\n",
      "memory usage: 89.8+ KB\n"
     ]
    }
   ],
   "source": [
    "#Understand the type of data that variable contains\n",
    "df.info()"
   ]
  },
  {
   "cell_type": "markdown",
   "metadata": {},
   "source": [
    "### Interesting!!: There are 8 categorical variables, and 7 integer variables and 3 variables with decimal values"
   ]
  },
  {
   "cell_type": "code",
   "execution_count": 55,
   "metadata": {},
   "outputs": [
    {
     "data": {
      "text/plain": [
       "(638, 18)"
      ]
     },
     "execution_count": 55,
     "metadata": {},
     "output_type": "execute_result"
    }
   ],
   "source": [
    "#Check the shape of the data - Rows and column inspection can give better understanding about the structure of the data\n",
    "df.shape"
   ]
  },
  {
   "cell_type": "markdown",
   "metadata": {},
   "source": [
    "It is quite tempting to build model building and prediction, However, the most important part any data scientists should do is <b> EXPLORATION AND VISUALIZATION </b>. Exploratory data analysis is the most crucial step in a machine learning project, as it is very unlikely to unearth unexpected findings, correlations and relationship within the predictor variables as well as with target variables. Actually, Exploratory Data Analysis opens a gateway for efficient feature engineering by helping us to better understand the underlying association."
   ]
  },
  {
   "cell_type": "code",
   "execution_count": 56,
   "metadata": {},
   "outputs": [
    {
     "data": {
      "text/html": [
       "<div>\n",
       "<style scoped>\n",
       "    .dataframe tbody tr th:only-of-type {\n",
       "        vertical-align: middle;\n",
       "    }\n",
       "\n",
       "    .dataframe tbody tr th {\n",
       "        vertical-align: top;\n",
       "    }\n",
       "\n",
       "    .dataframe thead th {\n",
       "        text-align: right;\n",
       "    }\n",
       "</style>\n",
       "<table border=\"1\" class=\"dataframe\">\n",
       "  <thead>\n",
       "    <tr style=\"text-align: right;\">\n",
       "      <th></th>\n",
       "      <th>COUPON</th>\n",
       "      <th>NEW</th>\n",
       "      <th>HI</th>\n",
       "      <th>S_INCOME</th>\n",
       "      <th>E_INCOME</th>\n",
       "      <th>S_POP</th>\n",
       "      <th>E_POP</th>\n",
       "      <th>DISTANCE</th>\n",
       "      <th>PAX</th>\n",
       "      <th>FARE</th>\n",
       "    </tr>\n",
       "  </thead>\n",
       "  <tbody>\n",
       "    <tr>\n",
       "      <th>count</th>\n",
       "      <td>638.000000</td>\n",
       "      <td>638.000000</td>\n",
       "      <td>638.000000</td>\n",
       "      <td>638.000000</td>\n",
       "      <td>638.000000</td>\n",
       "      <td>6.380000e+02</td>\n",
       "      <td>6.380000e+02</td>\n",
       "      <td>638.000000</td>\n",
       "      <td>638.000000</td>\n",
       "      <td>638.000000</td>\n",
       "    </tr>\n",
       "    <tr>\n",
       "      <th>mean</th>\n",
       "      <td>1.202335</td>\n",
       "      <td>2.753918</td>\n",
       "      <td>4442.141218</td>\n",
       "      <td>27759.860502</td>\n",
       "      <td>27663.727273</td>\n",
       "      <td>4.557004e+06</td>\n",
       "      <td>3.194503e+06</td>\n",
       "      <td>975.653605</td>\n",
       "      <td>12782.214734</td>\n",
       "      <td>160.876677</td>\n",
       "    </tr>\n",
       "    <tr>\n",
       "      <th>std</th>\n",
       "      <td>0.203821</td>\n",
       "      <td>0.760448</td>\n",
       "      <td>1724.266962</td>\n",
       "      <td>3596.207837</td>\n",
       "      <td>4611.325018</td>\n",
       "      <td>3.010985e+06</td>\n",
       "      <td>2.735604e+06</td>\n",
       "      <td>646.242403</td>\n",
       "      <td>13202.228860</td>\n",
       "      <td>76.022436</td>\n",
       "    </tr>\n",
       "    <tr>\n",
       "      <th>min</th>\n",
       "      <td>1.000000</td>\n",
       "      <td>0.000000</td>\n",
       "      <td>1230.483840</td>\n",
       "      <td>14600.000000</td>\n",
       "      <td>14600.000000</td>\n",
       "      <td>2.983800e+04</td>\n",
       "      <td>1.117450e+05</td>\n",
       "      <td>114.000000</td>\n",
       "      <td>1504.000000</td>\n",
       "      <td>42.470000</td>\n",
       "    </tr>\n",
       "    <tr>\n",
       "      <th>25%</th>\n",
       "      <td>1.040000</td>\n",
       "      <td>3.000000</td>\n",
       "      <td>3090.136621</td>\n",
       "      <td>24706.000000</td>\n",
       "      <td>23903.000000</td>\n",
       "      <td>1.862106e+06</td>\n",
       "      <td>1.228816e+06</td>\n",
       "      <td>455.000000</td>\n",
       "      <td>5328.500000</td>\n",
       "      <td>106.290000</td>\n",
       "    </tr>\n",
       "    <tr>\n",
       "      <th>50%</th>\n",
       "      <td>1.150000</td>\n",
       "      <td>3.000000</td>\n",
       "      <td>4208.183286</td>\n",
       "      <td>28637.000000</td>\n",
       "      <td>26409.000000</td>\n",
       "      <td>3.532657e+06</td>\n",
       "      <td>2.195215e+06</td>\n",
       "      <td>850.000000</td>\n",
       "      <td>7792.000000</td>\n",
       "      <td>144.600000</td>\n",
       "    </tr>\n",
       "    <tr>\n",
       "      <th>75%</th>\n",
       "      <td>1.297500</td>\n",
       "      <td>3.000000</td>\n",
       "      <td>5480.572518</td>\n",
       "      <td>29693.500000</td>\n",
       "      <td>31981.000000</td>\n",
       "      <td>7.830332e+06</td>\n",
       "      <td>4.549784e+06</td>\n",
       "      <td>1306.250000</td>\n",
       "      <td>14090.500000</td>\n",
       "      <td>209.350000</td>\n",
       "    </tr>\n",
       "    <tr>\n",
       "      <th>max</th>\n",
       "      <td>1.940000</td>\n",
       "      <td>3.000000</td>\n",
       "      <td>10000.000000</td>\n",
       "      <td>38813.000000</td>\n",
       "      <td>38813.000000</td>\n",
       "      <td>9.056076e+06</td>\n",
       "      <td>9.056076e+06</td>\n",
       "      <td>2764.000000</td>\n",
       "      <td>73892.000000</td>\n",
       "      <td>402.020000</td>\n",
       "    </tr>\n",
       "  </tbody>\n",
       "</table>\n",
       "</div>"
      ],
      "text/plain": [
       "           COUPON         NEW            HI      S_INCOME      E_INCOME  \\\n",
       "count  638.000000  638.000000    638.000000    638.000000    638.000000   \n",
       "mean     1.202335    2.753918   4442.141218  27759.860502  27663.727273   \n",
       "std      0.203821    0.760448   1724.266962   3596.207837   4611.325018   \n",
       "min      1.000000    0.000000   1230.483840  14600.000000  14600.000000   \n",
       "25%      1.040000    3.000000   3090.136621  24706.000000  23903.000000   \n",
       "50%      1.150000    3.000000   4208.183286  28637.000000  26409.000000   \n",
       "75%      1.297500    3.000000   5480.572518  29693.500000  31981.000000   \n",
       "max      1.940000    3.000000  10000.000000  38813.000000  38813.000000   \n",
       "\n",
       "              S_POP         E_POP     DISTANCE           PAX        FARE  \n",
       "count  6.380000e+02  6.380000e+02   638.000000    638.000000  638.000000  \n",
       "mean   4.557004e+06  3.194503e+06   975.653605  12782.214734  160.876677  \n",
       "std    3.010985e+06  2.735604e+06   646.242403  13202.228860   76.022436  \n",
       "min    2.983800e+04  1.117450e+05   114.000000   1504.000000   42.470000  \n",
       "25%    1.862106e+06  1.228816e+06   455.000000   5328.500000  106.290000  \n",
       "50%    3.532657e+06  2.195215e+06   850.000000   7792.000000  144.600000  \n",
       "75%    7.830332e+06  4.549784e+06  1306.250000  14090.500000  209.350000  \n",
       "max    9.056076e+06  9.056076e+06  2764.000000  73892.000000  402.020000  "
      ]
     },
     "execution_count": 56,
     "metadata": {},
     "output_type": "execute_result"
    }
   ],
   "source": [
    "#Generating 5-number summary could be much helpful and one of the most significant step in exploring the data\n",
    "df.describe()"
   ]
  },
  {
   "cell_type": "code",
   "execution_count": 57,
   "metadata": {},
   "outputs": [
    {
     "data": {
      "text/plain": [
       "Chicago             IL    90\n",
       "New York/Newark     NY    88\n",
       "Atlanta             GA    41\n",
       "Dallas/Fort Worth   TX    36\n",
       "Los Angeles         CA    33\n",
       "Boston              MA    31\n",
       "Las Vegas           NV    26\n",
       "Denver              CO    22\n",
       "Detroit             MI    22\n",
       "Houston             TX    20\n",
       "Phoenix             AZ    15\n",
       "Orlando             FL    15\n",
       "Seattle/Tacoma      WA    12\n",
       "Minneapolis/St Paul MN    12\n",
       "Fort Lauderdale     FL    11\n",
       "Miami               FL    11\n",
       "Kansas City         MO    11\n",
       "Cleveland           OH    10\n",
       "Austin              TX    10\n",
       "Columbus            OH    10\n",
       "Albuquerque         NM     9\n",
       "San Diego           CA     9\n",
       "San Francisco       CA     8\n",
       "New Orleans         LA     7\n",
       "Burbank             CA     7\n",
       "Oakland             CA     6\n",
       "Washington          DC     6\n",
       "Cincinnati          OH     6\n",
       "Philadelphia/Camden PA     6\n",
       "Hartford            CT     5\n",
       "Fort Meyers         FL     4\n",
       "St Louis            MO     4\n",
       "Tampa               FL     4\n",
       "Norfolk/Va B/Pt/Ch  VA     3\n",
       "Memphis             TN     3\n",
       "Jacksonville        FL     3\n",
       "Greenville/Sprtnbg  SC     3\n",
       "San Jose            CA     2\n",
       "Salt Lake City      UT     2\n",
       "Sacramento          CA     2\n",
       "Corpus Christi      TX     2\n",
       "Baltimore/Wash Intl MD     2\n",
       "Pittsburgh          PA     1\n",
       "Nashville           TN     1\n",
       "Honolulu (Intl)     HI     1\n",
       "Spokane             WA     1\n",
       "El Paso             TX     1\n",
       "Anchorage           AK     1\n",
       "Boise               ID     1\n",
       "Portland            OR     1\n",
       "Omaha               NE     1\n",
       "Name: S_CITY, dtype: int64"
      ]
     },
     "execution_count": 57,
     "metadata": {},
     "output_type": "execute_result"
    }
   ],
   "source": [
    "#Starting city flights summary\n",
    "df[\"S_CITY\"].value_counts()"
   ]
  },
  {
   "cell_type": "markdown",
   "metadata": {},
   "source": [
    "### Chicago - New York - Atlanta - Dallas - LA\n",
    "Chicago (90) has the highest number of starting flights followed by New york(88), Atlanta(41), Dallas(36), LA(33) as the starting point  "
   ]
  },
  {
   "cell_type": "code",
   "execution_count": 58,
   "metadata": {},
   "outputs": [
    {
     "data": {
      "text/plain": [
       "New York/Newark     NY    75\n",
       "Washington          DC    54\n",
       "Phoenix             AZ    25\n",
       "Orlando             FL    23\n",
       "Baltimore/Wash Intl MD    23\n",
       "San Francisco       CA    21\n",
       "Portland            OR    19\n",
       "Tampa               FL    18\n",
       "Seattle/Tacoma      WA    18\n",
       "St Louis            MO    17\n",
       "San Diego           CA    17\n",
       "Salt Lake City      UT    15\n",
       "Las Vegas           NV    15\n",
       "Philadelphia/Camden PA    14\n",
       "Indianapolis        IN    14\n",
       "San Jose            CA    12\n",
       "Los Angeles         CA    12\n",
       "Raleigh/Durham      NC    11\n",
       "West Palm Beach     FL    11\n",
       "Houston             TX    10\n",
       "San Antonio         TX    10\n",
       "Nashville           TN    10\n",
       "Reno                NV    10\n",
       "Colorado Springs    CO    10\n",
       "Pittsburgh          PA    10\n",
       "Minneapolis/St Paul MN    10\n",
       "Kansas City         MO     9\n",
       "Charlotte           NC     8\n",
       "Chicago             IL     8\n",
       "Miami               FL     7\n",
       "                          ..\n",
       "Fort Meyers         FL     4\n",
       "Honolulu (Intl)     HI     4\n",
       "Columbus            OH     4\n",
       "Louisville          KY     4\n",
       "Jacksonville        FL     4\n",
       "Syracuse            NY     4\n",
       "Oakland             CA     3\n",
       "Sarasota/Bradenton  FL     3\n",
       "Omaha               NE     3\n",
       "Greensboro/High Pt  NC     3\n",
       "Charleston          SC     3\n",
       "Buffalo             NY     3\n",
       "Richmond (Intl)     VA     3\n",
       "Tucson              AZ     3\n",
       "Hartford            CT     3\n",
       "Rochester           NY     3\n",
       "Cleveland           OH     3\n",
       "Birmingham          AL     2\n",
       "Tulsa               OK     2\n",
       "Oklahoma City       OK     2\n",
       "Spokane             WA     1\n",
       "El Paso             TX     1\n",
       "Cincinnati          OH     1\n",
       "Amarillo            TX     1\n",
       "Boise               ID     1\n",
       "Lubbock             TX     1\n",
       "Memphis             TN     1\n",
       "Tallahassee         FL     1\n",
       "Boston              MA     1\n",
       "Little Rock         AR     1\n",
       "Name: E_CITY, Length: 68, dtype: int64"
      ]
     },
     "execution_count": 58,
     "metadata": {},
     "output_type": "execute_result"
    }
   ],
   "source": [
    "#End City flights summary\n",
    "df[\"E_CITY\"].value_counts()"
   ]
  },
  {
   "cell_type": "markdown",
   "metadata": {},
   "source": [
    "### New York - Washington - Pheonix - Baltimore - Orlando\n",
    "New york (75) has the highest number of flights as end point or destination which is followed by Washington (54), Pheonix(25), Baltimore (23), Orlando(23)"
   ]
  },
  {
   "cell_type": "markdown",
   "metadata": {},
   "source": [
    "## Exploration of Feature variables"
   ]
  },
  {
   "cell_type": "markdown",
   "metadata": {},
   "source": [
    "One next thing to do is explore how the feature variables are distributed. This plays vital role in engineering features or transform features by finding the skewness with data or factoring variables that is more correlation"
   ]
  },
  {
   "cell_type": "code",
   "execution_count": 59,
   "metadata": {},
   "outputs": [
    {
     "data": {
      "image/png": "[encoded data removed]",
      "text/plain": [
       "<Figure size 432x288 with 1 Axes>"
      ]
     },
     "metadata": {},
     "output_type": "display_data"
    }
   ],
   "source": [
    "#Plot Boxplots on 4 most important numerical variable S_INCOME,E_INCOME, S_POP, E_POP\n",
    "#Boxplot for S_INCOME\n",
    "#plt.boxplot(df[\"S_INCOME\"])\n",
    "plt.hist(df[\"S_INCOME\"])\n",
    "plt.title(\"Starting_City_Income\")\n",
    "plt.axvline(df[\"S_INCOME\"].mean(), color='k', linestyle='dashed', linewidth=1.5)\n",
    "plt.show()"
   ]
  },
  {
   "cell_type": "code",
   "execution_count": 60,
   "metadata": {},
   "outputs": [
    {
     "data": {
      "image/png": "[encoded data removed]",
      "text/plain": [
       "<Figure size 432x288 with 1 Axes>"
      ]
     },
     "metadata": {},
     "output_type": "display_data"
    }
   ],
   "source": [
    "#Boxplot for E_INCOME\n",
    "#plt.boxplot(df[\"E_INCOME\"])\n",
    "plt.hist(df[\"E_INCOME\"])\n",
    "plt.title(\"End_City_Income\")\n",
    "plt.axvline(df[\"E_INCOME\"].mean(), color='k', linestyle='dashed', linewidth=1.5)\n",
    "plt.show()"
   ]
  },
  {
   "cell_type": "code",
   "execution_count": 61,
   "metadata": {},
   "outputs": [
    {
     "data": {
      "image/png": "[encoded data removed]",
      "text/plain": [
       "<Figure size 432x288 with 1 Axes>"
      ]
     },
     "metadata": {},
     "output_type": "display_data"
    }
   ],
   "source": [
    "#Boxplot for S_POP\n",
    "#plt.boxplot(df[\"S_POP\"])\n",
    "plt.hist(df[\"S_POP\"])\n",
    "plt.title(\"Starting_City_Population\")\n",
    "plt.axvline(df[\"S_POP\"].mean(), color='k', linestyle='dashed', linewidth=1.5)\n",
    "plt.show()"
   ]
  },
  {
   "cell_type": "code",
   "execution_count": 62,
   "metadata": {},
   "outputs": [
    {
     "data": {
      "image/png": "[encoded data removed]",
      "text/plain": [
       "<Figure size 432x288 with 1 Axes>"
      ]
     },
     "metadata": {},
     "output_type": "display_data"
    }
   ],
   "source": [
    "#Histogram for E_POP\n",
    "plt.hist(df[\"E_POP\"])\n",
    "plt.title(\"Ending_City_population\")\n",
    "plt.axvline(df[\"E_POP\"].mean(), color='k', linestyle='dashed', linewidth=1.5)\n",
    "plt.show()"
   ]
  },
  {
   "cell_type": "markdown",
   "metadata": {},
   "source": [
    "Points to remember and note from the above visualization:\n",
    "* Starting and Ending City Population has skewness and skewness affects the accuracy of an algorithm to greater extend. Hence, we would like to address the issue by transforming the features. However, we would like to see how Model is performing before transformation inorder to better assess the capabilities of different models, thereby efficiently tuning the algorithm\n"
   ]
  },
  {
   "cell_type": "code",
   "execution_count": 63,
   "metadata": {},
   "outputs": [],
   "source": [
    "#Obtaining the labels\n",
    "y = df_copy[\"FARE\"]\n",
    "# We will keep the df and will work on df_copy which is same as df\n",
    "X = df_copy.drop([\"S_CODE\",\"S_CITY\",\"E_CODE\",\"E_CITY\",\"VACATION\",\"SW\",\"SLOT\",\"GATE\"], axis = 1)\n",
    "#Drop the FARE column to make the training dataset without labels\n",
    "X = X.drop(\"FARE\", axis = 1)"
   ]
  },
  {
   "cell_type": "code",
   "execution_count": 64,
   "metadata": {},
   "outputs": [
    {
     "name": "stdout",
     "output_type": "stream",
     "text": [
      "   COUPON  NEW           HI  S_INCOME  E_INCOME    S_POP    E_POP  DISTANCE  \\\n",
      "0    1.00    3  5291.991341     28637     21112  3036732   205711       312   \n",
      "1    1.06    3  5419.160907     26993     29838  3532657  7145897       576   \n",
      "2    1.06    3  9185.283234     30124     29838  5787293  7145897       364   \n",
      "3    1.06    3  2657.351987     29260     29838  7830332  7145897       612   \n",
      "4    1.06    3  2657.351987     29260     29838  7830332  7145897       612   \n",
      "\n",
      "     PAX  \n",
      "0   7864  \n",
      "1   8820  \n",
      "2   6452  \n",
      "3  25144  \n",
      "4  25144  \n"
     ]
    }
   ],
   "source": [
    "print(X.head())"
   ]
  },
  {
   "cell_type": "code",
   "execution_count": 65,
   "metadata": {},
   "outputs": [
    {
     "name": "stdout",
     "output_type": "stream",
     "text": [
      "0     64.11\n",
      "1    174.47\n",
      "2    207.76\n",
      "3     85.47\n",
      "4     85.47\n",
      "Name: FARE, dtype: float64\n"
     ]
    }
   ],
   "source": [
    "print(y.head())"
   ]
  },
  {
   "cell_type": "code",
   "execution_count": 66,
   "metadata": {},
   "outputs": [
    {
     "name": "stdout",
     "output_type": "stream",
     "text": [
      "(638, 9)\n"
     ]
    }
   ],
   "source": [
    "print(X.shape)"
   ]
  },
  {
   "cell_type": "code",
   "execution_count": 67,
   "metadata": {},
   "outputs": [
    {
     "name": "stdout",
     "output_type": "stream",
     "text": [
      "(638,)\n"
     ]
    }
   ],
   "source": [
    "print(y.shape)"
   ]
  },
  {
   "cell_type": "code",
   "execution_count": 68,
   "metadata": {},
   "outputs": [],
   "source": [
    "#Now we will split the dataset randomly in 70-30 train and test set\n",
    "X_train, X_test, y_train, y_test = train_test_split(X,y,test_size = 0.2, random_state = 42)"
   ]
  },
  {
   "cell_type": "code",
   "execution_count": 69,
   "metadata": {},
   "outputs": [
    {
     "name": "stdout",
     "output_type": "stream",
     "text": [
      "X_train_Shape:  (510, 9)\n",
      "X_test_Shape:  (128, 9)\n",
      "y_train_Shape:  (510,)\n",
      "y_test_Shape:  (128,)\n"
     ]
    }
   ],
   "source": [
    "#Validating X_train shape\n",
    "print(\"X_train_Shape: \",X_train.shape)\n",
    "#Validating X_test shape\n",
    "print(\"X_test_Shape: \",X_test.shape)\n",
    "#Validating y_train shape\n",
    "print(\"y_train_Shape: \",y_train.shape)\n",
    "#Validating y_test shape\n",
    "print(\"y_test_Shape: \",y_test.shape)"
   ]
  },
  {
   "cell_type": "markdown",
   "metadata": {},
   "source": [
    "### does splitting the data into train and test set does really matter ?"
   ]
  },
  {
   "cell_type": "markdown",
   "metadata": {},
   "source": [
    "The answer is YES!!!!. It is possible to train a model without splitting. But the resultant model will have OVERFITTING problem. Overfitting problem is the inability of the model to generalize to new unseen data. Training on Unsplit model will result in high variance model which will give high accuracy during training phase and will lag in generalizing it to the new data and if the problem occurs in production ready model, its a curse to the company which implements in the production phase"
   ]
  },
  {
   "cell_type": "markdown",
   "metadata": {},
   "source": [
    "# Prediction!!"
   ]
  },
  {
   "cell_type": "code",
   "execution_count": 70,
   "metadata": {},
   "outputs": [],
   "source": [
    "#Train a LM model\n",
    "model = LinearRegression()"
   ]
  },
  {
   "cell_type": "code",
   "execution_count": 71,
   "metadata": {},
   "outputs": [],
   "source": [
    "result = model.fit(X_train, y_train)"
   ]
  },
  {
   "cell_type": "code",
   "execution_count": 72,
   "metadata": {},
   "outputs": [
    {
     "name": "stdout",
     "output_type": "stream",
     "text": [
      "-240.5622978188199 [ 3.53032377e+01  2.16228113e-01  1.27754380e-02  4.16332519e-03\n",
      "  2.58921682e-03  7.24171122e-06  9.62449902e-06  6.82410238e-02\n",
      " -1.23806672e-03]\n",
      "Train Score:  0.6909150886801911\n",
      "Train Score:  0.7123570021230419\n"
     ]
    }
   ],
   "source": [
    "print(model.intercept_, model.coef_)\n",
    "print(\"Train Score: \",model.score(X_train, y_train))\n",
    "print(\"Train Score: \",model.score(X_test, y_test))"
   ]
  },
  {
   "cell_type": "markdown",
   "metadata": {},
   "source": [
    "## Model Summary\n"
   ]
  },
  {
   "cell_type": "markdown",
   "metadata": {},
   "source": [
    "We ran the model and stored the model results in result variable. However, we can see the intercept and the corresponding coefficient values for all the features that was taken into consideration.However, to make things more informative to the nerds, we will run the model using <b>STATSMODELS</b> library. One variation in OLS (Ordinary least squares) can be done is that we can add constant, so that model is not forced to go through the origin and can have a y-intercept"
   ]
  },
  {
   "cell_type": "code",
   "execution_count": 73,
   "metadata": {},
   "outputs": [
    {
     "data": {
      "text/html": [
       "<table class=\"simpletable\">\n",
       "<caption>OLS Regression Results</caption>\n",
       "<tr>\n",
       "  <th>Dep. Variable:</th>          <td>FARE</td>       <th>  R-squared:         </th> <td>   0.936</td> \n",
       "</tr>\n",
       "<tr>\n",
       "  <th>Model:</th>                   <td>OLS</td>       <th>  Adj. R-squared:    </th> <td>   0.935</td> \n",
       "</tr>\n",
       "<tr>\n",
       "  <th>Method:</th>             <td>Least Squares</td>  <th>  F-statistic:       </th> <td>   815.4</td> \n",
       "</tr>\n",
       "<tr>\n",
       "  <th>Date:</th>             <td>Wed, 28 Nov 2018</td> <th>  Prob (F-statistic):</th> <td>1.08e-292</td>\n",
       "</tr>\n",
       "<tr>\n",
       "  <th>Time:</th>                 <td>22:13:47</td>     <th>  Log-Likelihood:    </th> <td> -2665.2</td> \n",
       "</tr>\n",
       "<tr>\n",
       "  <th>No. Observations:</th>      <td>   510</td>      <th>  AIC:               </th> <td>   5348.</td> \n",
       "</tr>\n",
       "<tr>\n",
       "  <th>Df Residuals:</th>          <td>   501</td>      <th>  BIC:               </th> <td>   5387.</td> \n",
       "</tr>\n",
       "<tr>\n",
       "  <th>Df Model:</th>              <td>     9</td>      <th>                     </th>     <td> </td>    \n",
       "</tr>\n",
       "<tr>\n",
       "  <th>Covariance Type:</th>      <td>nonrobust</td>    <th>                     </th>     <td> </td>    \n",
       "</tr>\n",
       "</table>\n",
       "<table class=\"simpletable\">\n",
       "<tr>\n",
       "      <td></td>        <th>coef</th>     <th>std err</th>      <th>t</th>      <th>P>|t|</th>  <th>[0.025</th>    <th>0.975]</th>  \n",
       "</tr>\n",
       "<tr>\n",
       "  <th>COUPON</th>   <td>  -54.7870</td> <td>   12.133</td> <td>   -4.515</td> <td> 0.000</td> <td>  -78.625</td> <td>  -30.949</td>\n",
       "</tr>\n",
       "<tr>\n",
       "  <th>NEW</th>      <td>   -3.9995</td> <td>    2.737</td> <td>   -1.461</td> <td> 0.145</td> <td>   -9.378</td> <td>    1.379</td>\n",
       "</tr>\n",
       "<tr>\n",
       "  <th>HI</th>       <td>    0.0098</td> <td>    0.001</td> <td>    7.359</td> <td> 0.000</td> <td>    0.007</td> <td>    0.012</td>\n",
       "</tr>\n",
       "<tr>\n",
       "  <th>S_INCOME</th> <td>    0.0013</td> <td>    0.001</td> <td>    2.287</td> <td> 0.023</td> <td>    0.000</td> <td>    0.002</td>\n",
       "</tr>\n",
       "<tr>\n",
       "  <th>E_INCOME</th> <td>    0.0010</td> <td>    0.000</td> <td>    2.191</td> <td> 0.029</td> <td>    0.000</td> <td>    0.002</td>\n",
       "</tr>\n",
       "<tr>\n",
       "  <th>S_POP</th>    <td> 7.668e-06</td> <td> 8.51e-07</td> <td>    9.007</td> <td> 0.000</td> <td>    6e-06</td> <td> 9.34e-06</td>\n",
       "</tr>\n",
       "<tr>\n",
       "  <th>E_POP</th>    <td> 1.013e-05</td> <td> 9.28e-07</td> <td>   10.913</td> <td> 0.000</td> <td> 8.31e-06</td> <td>  1.2e-05</td>\n",
       "</tr>\n",
       "<tr>\n",
       "  <th>DISTANCE</th> <td>    0.0869</td> <td>    0.004</td> <td>   20.205</td> <td> 0.000</td> <td>    0.078</td> <td>    0.095</td>\n",
       "</tr>\n",
       "<tr>\n",
       "  <th>PAX</th>      <td>   -0.0016</td> <td>    0.000</td> <td>   -7.837</td> <td> 0.000</td> <td>   -0.002</td> <td>   -0.001</td>\n",
       "</tr>\n",
       "</table>\n",
       "<table class=\"simpletable\">\n",
       "<tr>\n",
       "  <th>Omnibus:</th>       <td> 5.709</td> <th>  Durbin-Watson:     </th> <td>   2.004</td>\n",
       "</tr>\n",
       "<tr>\n",
       "  <th>Prob(Omnibus):</th> <td> 0.058</td> <th>  Jarque-Bera (JB):  </th> <td>   4.579</td>\n",
       "</tr>\n",
       "<tr>\n",
       "  <th>Skew:</th>          <td> 0.133</td> <th>  Prob(JB):          </th> <td>   0.101</td>\n",
       "</tr>\n",
       "<tr>\n",
       "  <th>Kurtosis:</th>      <td> 2.620</td> <th>  Cond. No.          </th> <td>3.65e+07</td>\n",
       "</tr>\n",
       "</table><br/><br/>Warnings:<br/>[1] Standard Errors assume that the covariance matrix of the errors is correctly specified.<br/>[2] The condition number is large, 3.65e+07. This might indicate that there are<br/>strong multicollinearity or other numerical problems."
      ],
      "text/plain": [
       "<class 'statsmodels.iolib.summary.Summary'>\n",
       "\"\"\"\n",
       "                            OLS Regression Results                            \n",
       "==============================================================================\n",
       "Dep. Variable:                   FARE   R-squared:                       0.936\n",
       "Model:                            OLS   Adj. R-squared:                  0.935\n",
       "Method:                 Least Squares   F-statistic:                     815.4\n",
       "Date:                Wed, 28 Nov 2018   Prob (F-statistic):          1.08e-292\n",
       "Time:                        22:13:47   Log-Likelihood:                -2665.2\n",
       "No. Observations:                 510   AIC:                             5348.\n",
       "Df Residuals:                     501   BIC:                             5387.\n",
       "Df Model:                           9                                         \n",
       "Covariance Type:            nonrobust                                         \n",
       "==============================================================================\n",
       "                 coef    std err          t      P>|t|      [0.025      0.975]\n",
       "------------------------------------------------------------------------------\n",
       "COUPON       -54.7870     12.133     -4.515      0.000     -78.625     -30.949\n",
       "NEW           -3.9995      2.737     -1.461      0.145      -9.378       1.379\n",
       "HI             0.0098      0.001      7.359      0.000       0.007       0.012\n",
       "S_INCOME       0.0013      0.001      2.287      0.023       0.000       0.002\n",
       "E_INCOME       0.0010      0.000      2.191      0.029       0.000       0.002\n",
       "S_POP       7.668e-06   8.51e-07      9.007      0.000       6e-06    9.34e-06\n",
       "E_POP       1.013e-05   9.28e-07     10.913      0.000    8.31e-06     1.2e-05\n",
       "DISTANCE       0.0869      0.004     20.205      0.000       0.078       0.095\n",
       "PAX           -0.0016      0.000     -7.837      0.000      -0.002      -0.001\n",
       "==============================================================================\n",
       "Omnibus:                        5.709   Durbin-Watson:                   2.004\n",
       "Prob(Omnibus):                  0.058   Jarque-Bera (JB):                4.579\n",
       "Skew:                           0.133   Prob(JB):                        0.101\n",
       "Kurtosis:                       2.620   Cond. No.                     3.65e+07\n",
       "==============================================================================\n",
       "\n",
       "Warnings:\n",
       "[1] Standard Errors assume that the covariance matrix of the errors is correctly specified.\n",
       "[2] The condition number is large, 3.65e+07. This might indicate that there are\n",
       "strong multicollinearity or other numerical problems.\n",
       "\"\"\""
      ]
     },
     "execution_count": 73,
     "metadata": {},
     "output_type": "execute_result"
    }
   ],
   "source": [
    "#Note Unlike sklearn, statsmodel doesn't add a constant automatically, however we will try not adding constant\n",
    "model1 = sm.OLS(y_train,X_train).fit()\n",
    "#model summary\n",
    "model1.summary()"
   ]
  },
  {
   "cell_type": "markdown",
   "metadata": {},
   "source": [
    "From the Above statistics, some points to note are <b>R-squared</b> and <b>Adjusted R-square</b> metrics. <b>R squared</b> can also be termed as coefficient of determination , which provides a measure of how well our model as a whole explains the feature variable used. It is nothing but the error or evaluation metric against the prediction and the ground truth table.\n",
    "\n",
    "However, Adjusted R squared is a penalized value of r-square, which penalizes any models for having many dependant variables.\n",
    "\n",
    "###Other important stats to note:\n",
    "* <b>P-value</b> all the 9 independant variable are statistically significant with p-values less than 0.05 (typical significant values)\n",
    "* <b>Skewness</b> is measured as 0.133 and it represents a negligible amount of negative skewness in the data\n",
    "* <b>Prob(Omnibus)</b> is pretty average, which determines that our data is not very normally distributed. Frankly, we can expect all the real data to be non-normally distributed"
   ]
  },
  {
   "cell_type": "markdown",
   "metadata": {},
   "source": [
    "A model with around 93% accuracy built on a real data is not a bad model. But, there are mot of avenues to improve which can be obtained by further analysis, feature engineering and extensive data transaformation. <b>Let's Dive Deep!!!</b> "
   ]
  },
  {
   "cell_type": "markdown",
   "metadata": {},
   "source": [
    "The above model only assumes that there is only linear relationship between the variables under study. However, some variable seems to provide non-linear (Polynomial Regression) among the dependant variable and the predictor variables. "
   ]
  },
  {
   "cell_type": "code",
   "execution_count": 74,
   "metadata": {},
   "outputs": [
    {
     "data": {
      "text/plain": [
       "(638, 9)"
      ]
     },
     "execution_count": 74,
     "metadata": {},
     "output_type": "execute_result"
    }
   ],
   "source": [
    "#Check the shape of X\n",
    "X.shape"
   ]
  },
  {
   "cell_type": "code",
   "execution_count": 75,
   "metadata": {},
   "outputs": [
    {
     "name": "stdout",
     "output_type": "stream",
     "text": [
      "   COUPON  NEW           HI  S_INCOME  E_INCOME    S_POP    E_POP  DISTANCE  \\\n",
      "0    1.00    3  5291.991341     28637     21112  3036732   205711       312   \n",
      "1    1.06    3  5419.160907     26993     29838  3532657  7145897       576   \n",
      "2    1.06    3  9185.283234     30124     29838  5787293  7145897       364   \n",
      "3    1.06    3  2657.351987     29260     29838  7830332  7145897       612   \n",
      "4    1.06    3  2657.351987     29260     29838  7830332  7145897       612   \n",
      "\n",
      "     PAX       S_POP2       E_POP2   S_INCOME2   E_INCOME2  \n",
      "0   7864  1742.622162   453.553745  169.224703  145.299690  \n",
      "1   8820  1879.536379  2673.181064  164.295466  172.736794  \n",
      "2   6452  2405.679322  2673.181064  173.562669  172.736794  \n",
      "3  25144  2798.273039  2673.181064  171.055547  172.736794  \n",
      "4  25144  2798.273039  2673.181064  171.055547  172.736794  \n"
     ]
    }
   ],
   "source": [
    "#Creating non-linear variables to capture non-linear relationships between the variables\n",
    "X[\"S_POP2\"] = np.sqrt(X[\"S_POP\"])\n",
    "X[\"E_POP2\"] = np.sqrt(X[\"E_POP\"])\n",
    "X[\"S_INCOME2\"] = np.sqrt(X[\"S_INCOME\"])\n",
    "X[\"E_INCOME2\"] = np.sqrt(X[\"E_INCOME\"])\n",
    "\n",
    "print(X.head())"
   ]
  },
  {
   "cell_type": "code",
   "execution_count": 77,
   "metadata": {},
   "outputs": [
    {
     "name": "stdout",
     "output_type": "stream",
     "text": [
      "(638, 13)\n"
     ]
    }
   ],
   "source": [
    "#Notice the change in shape due to addition of columns\n",
    "print(X.shape)"
   ]
  },
  {
   "cell_type": "code",
   "execution_count": 78,
   "metadata": {},
   "outputs": [
    {
     "data": {
      "text/html": [
       "<table class=\"simpletable\">\n",
       "<caption>OLS Regression Results</caption>\n",
       "<tr>\n",
       "  <th>Dep. Variable:</th>          <td>FARE</td>       <th>  R-squared:         </th> <td>   0.945</td> \n",
       "</tr>\n",
       "<tr>\n",
       "  <th>Model:</th>                   <td>OLS</td>       <th>  Adj. R-squared:    </th> <td>   0.943</td> \n",
       "</tr>\n",
       "<tr>\n",
       "  <th>Method:</th>             <td>Least Squares</td>  <th>  F-statistic:       </th> <td>   652.9</td> \n",
       "</tr>\n",
       "<tr>\n",
       "  <th>Date:</th>             <td>Wed, 28 Nov 2018</td> <th>  Prob (F-statistic):</th> <td>1.61e-302</td>\n",
       "</tr>\n",
       "<tr>\n",
       "  <th>Time:</th>                 <td>22:14:32</td>     <th>  Log-Likelihood:    </th> <td> -2628.4</td> \n",
       "</tr>\n",
       "<tr>\n",
       "  <th>No. Observations:</th>      <td>   510</td>      <th>  AIC:               </th> <td>   5283.</td> \n",
       "</tr>\n",
       "<tr>\n",
       "  <th>Df Residuals:</th>          <td>   497</td>      <th>  BIC:               </th> <td>   5338.</td> \n",
       "</tr>\n",
       "<tr>\n",
       "  <th>Df Model:</th>              <td>    13</td>      <th>                     </th>     <td> </td>    \n",
       "</tr>\n",
       "<tr>\n",
       "  <th>Covariance Type:</th>      <td>nonrobust</td>    <th>                     </th>     <td> </td>    \n",
       "</tr>\n",
       "</table>\n",
       "<table class=\"simpletable\">\n",
       "<tr>\n",
       "      <td></td>         <th>coef</th>     <th>std err</th>      <th>t</th>      <th>P>|t|</th>  <th>[0.025</th>    <th>0.975]</th>  \n",
       "</tr>\n",
       "<tr>\n",
       "  <th>COUPON</th>    <td>   38.5820</td> <td>   15.777</td> <td>    2.446</td> <td> 0.015</td> <td>    7.585</td> <td>   69.579</td>\n",
       "</tr>\n",
       "<tr>\n",
       "  <th>NEW</th>       <td>   -0.4115</td> <td>    2.618</td> <td>   -0.157</td> <td> 0.875</td> <td>   -5.555</td> <td>    4.732</td>\n",
       "</tr>\n",
       "<tr>\n",
       "  <th>HI</th>        <td>    0.0119</td> <td>    0.001</td> <td>    9.003</td> <td> 0.000</td> <td>    0.009</td> <td>    0.015</td>\n",
       "</tr>\n",
       "<tr>\n",
       "  <th>S_INCOME</th>  <td>    0.0069</td> <td>    0.008</td> <td>    0.918</td> <td> 0.359</td> <td>   -0.008</td> <td>    0.022</td>\n",
       "</tr>\n",
       "<tr>\n",
       "  <th>E_INCOME</th>  <td>    0.0100</td> <td>    0.007</td> <td>    1.375</td> <td> 0.170</td> <td>   -0.004</td> <td>    0.024</td>\n",
       "</tr>\n",
       "<tr>\n",
       "  <th>S_POP</th>     <td>-6.663e-08</td> <td> 3.93e-06</td> <td>   -0.017</td> <td> 0.986</td> <td>-7.79e-06</td> <td> 7.65e-06</td>\n",
       "</tr>\n",
       "<tr>\n",
       "  <th>E_POP</th>     <td> 2.043e-06</td> <td> 3.68e-06</td> <td>    0.555</td> <td> 0.579</td> <td>-5.19e-06</td> <td> 9.28e-06</td>\n",
       "</tr>\n",
       "<tr>\n",
       "  <th>DISTANCE</th>  <td>    0.0663</td> <td>    0.005</td> <td>   14.211</td> <td> 0.000</td> <td>    0.057</td> <td>    0.075</td>\n",
       "</tr>\n",
       "<tr>\n",
       "  <th>PAX</th>       <td>   -0.0013</td> <td>    0.000</td> <td>   -6.598</td> <td> 0.000</td> <td>   -0.002</td> <td>   -0.001</td>\n",
       "</tr>\n",
       "<tr>\n",
       "  <th>S_POP2</th>    <td>    0.0294</td> <td>    0.016</td> <td>    1.883</td> <td> 0.060</td> <td>   -0.001</td> <td>    0.060</td>\n",
       "</tr>\n",
       "<tr>\n",
       "  <th>E_POP2</th>    <td>    0.0298</td> <td>    0.014</td> <td>    2.175</td> <td> 0.030</td> <td>    0.003</td> <td>    0.057</td>\n",
       "</tr>\n",
       "<tr>\n",
       "  <th>S_INCOME2</th> <td>   -0.9239</td> <td>    2.512</td> <td>   -0.368</td> <td> 0.713</td> <td>   -5.860</td> <td>    4.012</td>\n",
       "</tr>\n",
       "<tr>\n",
       "  <th>E_INCOME2</th> <td>   -2.5001</td> <td>    2.457</td> <td>   -1.018</td> <td> 0.309</td> <td>   -7.327</td> <td>    2.326</td>\n",
       "</tr>\n",
       "</table>\n",
       "<table class=\"simpletable\">\n",
       "<tr>\n",
       "  <th>Omnibus:</th>       <td> 1.536</td> <th>  Durbin-Watson:     </th> <td>   1.950</td>\n",
       "</tr>\n",
       "<tr>\n",
       "  <th>Prob(Omnibus):</th> <td> 0.464</td> <th>  Jarque-Bera (JB):  </th> <td>   1.433</td>\n",
       "</tr>\n",
       "<tr>\n",
       "  <th>Skew:</th>          <td> 0.009</td> <th>  Prob(JB):          </th> <td>   0.488</td>\n",
       "</tr>\n",
       "<tr>\n",
       "  <th>Kurtosis:</th>      <td> 2.741</td> <th>  Cond. No.          </th> <td>5.09e+07</td>\n",
       "</tr>\n",
       "</table><br/><br/>Warnings:<br/>[1] Standard Errors assume that the covariance matrix of the errors is correctly specified.<br/>[2] The condition number is large, 5.09e+07. This might indicate that there are<br/>strong multicollinearity or other numerical problems."
      ],
      "text/plain": [
       "<class 'statsmodels.iolib.summary.Summary'>\n",
       "\"\"\"\n",
       "                            OLS Regression Results                            \n",
       "==============================================================================\n",
       "Dep. Variable:                   FARE   R-squared:                       0.945\n",
       "Model:                            OLS   Adj. R-squared:                  0.943\n",
       "Method:                 Least Squares   F-statistic:                     652.9\n",
       "Date:                Wed, 28 Nov 2018   Prob (F-statistic):          1.61e-302\n",
       "Time:                        22:14:32   Log-Likelihood:                -2628.4\n",
       "No. Observations:                 510   AIC:                             5283.\n",
       "Df Residuals:                     497   BIC:                             5338.\n",
       "Df Model:                          13                                         \n",
       "Covariance Type:            nonrobust                                         \n",
       "==============================================================================\n",
       "                 coef    std err          t      P>|t|      [0.025      0.975]\n",
       "------------------------------------------------------------------------------\n",
       "COUPON        38.5820     15.777      2.446      0.015       7.585      69.579\n",
       "NEW           -0.4115      2.618     -0.157      0.875      -5.555       4.732\n",
       "HI             0.0119      0.001      9.003      0.000       0.009       0.015\n",
       "S_INCOME       0.0069      0.008      0.918      0.359      -0.008       0.022\n",
       "E_INCOME       0.0100      0.007      1.375      0.170      -0.004       0.024\n",
       "S_POP      -6.663e-08   3.93e-06     -0.017      0.986   -7.79e-06    7.65e-06\n",
       "E_POP       2.043e-06   3.68e-06      0.555      0.579   -5.19e-06    9.28e-06\n",
       "DISTANCE       0.0663      0.005     14.211      0.000       0.057       0.075\n",
       "PAX           -0.0013      0.000     -6.598      0.000      -0.002      -0.001\n",
       "S_POP2         0.0294      0.016      1.883      0.060      -0.001       0.060\n",
       "E_POP2         0.0298      0.014      2.175      0.030       0.003       0.057\n",
       "S_INCOME2     -0.9239      2.512     -0.368      0.713      -5.860       4.012\n",
       "E_INCOME2     -2.5001      2.457     -1.018      0.309      -7.327       2.326\n",
       "==============================================================================\n",
       "Omnibus:                        1.536   Durbin-Watson:                   1.950\n",
       "Prob(Omnibus):                  0.464   Jarque-Bera (JB):                1.433\n",
       "Skew:                           0.009   Prob(JB):                        0.488\n",
       "Kurtosis:                       2.741   Cond. No.                     5.09e+07\n",
       "==============================================================================\n",
       "\n",
       "Warnings:\n",
       "[1] Standard Errors assume that the covariance matrix of the errors is correctly specified.\n",
       "[2] The condition number is large, 5.09e+07. This might indicate that there are\n",
       "strong multicollinearity or other numerical problems.\n",
       "\"\"\""
      ]
     },
     "execution_count": 78,
     "metadata": {},
     "output_type": "execute_result"
    }
   ],
   "source": [
    "#Splitting the data again with same seed as we have added new polynomial features to check for non-linear relationship\n",
    "X_train1, X_test1, y_train1, y_test1 = train_test_split(X,y,test_size = 0.2, random_state = 42)\n",
    "#Building the new model\n",
    "model2 = sm.OLS(y_train1,X_train1).fit()\n",
    "#Check Model summary\n",
    "model2.summary()"
   ]
  },
  {
   "cell_type": "markdown",
   "metadata": {},
   "source": [
    "## Hurrah!!!!! \n",
    "A linear model which represents and learns 95% variance of the dependant variables is a very good model. Hopefully, if we try to retune the model we might end up with a high variance problem aka Overfitting the model to the data.However, we will try to check whether the model is capable of generalizing to new unseen examples. Let's do it!!!!!"
   ]
  },
  {
   "cell_type": "code",
   "execution_count": 92,
   "metadata": {},
   "outputs": [
    {
     "name": "stdout",
     "output_type": "stream",
     "text": [
      "260    142.238314\n",
      "228     98.002604\n",
      "31     124.231976\n",
      "583     72.266047\n",
      "600    280.285268\n",
      "dtype: float64\n",
      "260    144.60\n",
      "228    116.78\n",
      "31     118.95\n",
      "583    100.95\n",
      "600    303.82\n",
      "Name: FARE, dtype: float64\n",
      "260    150.294067\n",
      "228     75.600416\n",
      "31     127.370784\n",
      "583     89.073450\n",
      "600    299.293031\n",
      "dtype: float64 260    144.60\n",
      "228    116.78\n",
      "31     118.95\n",
      "583    100.95\n",
      "600    303.82\n",
      "Name: FARE, dtype: float64\n",
      "260    144.60\n",
      "228    116.78\n",
      "31     118.95\n",
      "583    100.95\n",
      "600    303.82\n",
      "Name: FARE, dtype: float64\n"
     ]
    }
   ],
   "source": [
    "#Making predictions using the latest model with 95% accuracy on the latest split and also with the old model\n",
    "#New Model Prediction with added Polynomial Features\n",
    "PredictionNew = model2.predict(X_test1)\n",
    "print(PredictionNew[0:5])\n",
    "print(y_test1[0:5])\n",
    "#Old Model with no newly added features\n",
    "PredictionOld = model1.predict(X_test)\n",
    "print(PredictionOld[0:5],y_test[0:5])\n",
    "print(y_test[0:5])"
   ]
  },
  {
   "cell_type": "code",
   "execution_count": 91,
   "metadata": {},
   "outputs": [
    {
     "name": "stdout",
     "output_type": "stream",
     "text": [
      "Mean squared error_New: 1577.96\n",
      "Variance_New: 0.73\n",
      "Mean squared error_Old: 1871.29\n",
      "Variance_Old: 0.68\n"
     ]
    }
   ],
   "source": [
    "#Evaluation of the model using test set data using r2_score and mean_squared_error\n",
    "print(\"Mean squared error_New: %.2f\"% mean_squared_error(y_test1, PredictionNew))\n",
    "print(\"Variance_New: %.2f\"% r2_score(y_test1, PredictionNew))\n",
    "print(\"Mean squared error_Old: %.2f\"% mean_squared_error(y_test, PredictionOld))\n",
    "print(\"Variance_Old: %.2f\"% r2_score(y_test1, PredictionOld))"
   ]
  },
  {
   "cell_type": "markdown",
   "metadata": {},
   "source": [
    "That's a pretty good prediction and the latest model <b>outperforms the previous model by 5%</b>"
   ]
  },
  {
   "cell_type": "markdown",
   "metadata": {},
   "source": [
    "<b> OVERFITTING </b>"
   ]
  },
  {
   "cell_type": "markdown",
   "metadata": {},
   "source": [
    "In everyday life of a Data Scientist, Overfitting and underfitting problems can occur in almost any type of data they deal with because of the fact models like humans can overlearn or have bias. However, we can always adjust the model to have a tradeoff between Variance and Bias\n",
    "\n",
    "Most common approaches to address overfitting problem are  \n",
    "1) <b><i>Normalizing the data (Scaling)</i></b>  \n",
    "2) <b><i>Using Regularizing Parameter in the cost function</i></b>  \n",
    "3) <b><i>Using a model which is less prone to overfit</i></b>  "
   ]
  },
  {
   "cell_type": "markdown",
   "metadata": {},
   "source": [
    "# LIFE SAVIOR!!!! ## RANDOM FORESTS AND ENSEMBLE MODELS!!!"
   ]
  },
  {
   "cell_type": "markdown",
   "metadata": {},
   "source": [
    "In general, ensemble methods reduces the prediction variance to almost nothing, improving the accuracy of the ensemble. Random forest is nothing but number of Decision Trees stacked together wich can be used for both Prediction and Classification task. In prediction, Random forest takes the average of all the values predicted by the decision trees, whereas, in Classification, All decision trees are requied to vote and finally the class is selected out of the list. "
   ]
  },
  {
   "cell_type": "markdown",
   "metadata": {},
   "source": [
    "### Scaling the data!!!"
   ]
  },
  {
   "cell_type": "markdown",
   "metadata": {},
   "source": [
    "Scaling the data is very necessary here, as we can see two critical issues pulling the algorithm performance down. First, some of the dependant variables are <b>not normally distributed and Left skewed (Negative Skewness)</b>. Secondly, the dependant variables are on a different scale. e.g) End city average income <b>E_INCOME</b> is on a scale of thousands and Starting city population <b> S_POP </b> is on a scale of millions and lakhs. Hence, Normalization is a great tool every data scientist must have in their tool box, which comes handy in crisis  "
   ]
  },
  {
   "cell_type": "code",
   "execution_count": 93,
   "metadata": {},
   "outputs": [],
   "source": [
    "#Calling Scaler function from preprocessing and assigning it to the variable\n",
    "scaler = StandardScaler()\n",
    "scaler.fit(X_train1)\n",
    "X_train = scaler.transform(X_train1)\n",
    "X_test = scaler.transform(X_test1)"
   ]
  },
  {
   "cell_type": "code",
   "execution_count": 95,
   "metadata": {},
   "outputs": [],
   "source": [
    "#RF Model\n",
    "modelrandom = RandomForestRegressor(n_jobs = -1)"
   ]
  },
  {
   "cell_type": "code",
   "execution_count": 97,
   "metadata": {},
   "outputs": [
    {
     "data": {
      "text/plain": [
       "[<matplotlib.lines.Line2D at 0x96569c6b70>]"
      ]
     },
     "execution_count": 97,
     "metadata": {},
     "output_type": "execute_result"
    },
    {
     "data": {
      "image/png": "[encoded data removed]",
      "text/plain": [
       "<Figure size 432x288 with 1 Axes>"
      ]
     },
     "metadata": {},
     "output_type": "display_data"
    }
   ],
   "source": [
    "#Trying out different number of estimators (Trial and error is a must in ML pipeline to get the better results)\n",
    "estimators = np.arange(10, 200, 10)\n",
    "scores = []\n",
    "for n in estimators:\n",
    "    modelrandom.set_params(n_estimators=n)\n",
    "    modelrandom.fit(X_train1, y_train1)\n",
    "    scores.append(modelrandom.score(X_test1, y_test))\n",
    "plt.title(\"Effect of n_estimators\")\n",
    "plt.xlabel(\"n_estimator\")\n",
    "plt.ylabel(\"score\")\n",
    "plt.plot(estimators, scores)"
   ]
  },
  {
   "cell_type": "code",
   "execution_count": 99,
   "metadata": {},
   "outputs": [
    {
     "name": "stdout",
     "output_type": "stream",
     "text": [
      "[0.8298681399772827, 0.849205821427356, 0.8738001474923874, 0.8479384573472347, 0.8485580704044923, 0.8574493405863657, 0.8683559170034679, 0.8660185659428776, 0.8550621271242786, 0.8614456032049733, 0.8649671725948902, 0.8584339912950574, 0.8677849070953729, 0.8627168574216251, 0.8628720711653193, 0.867262806081599, 0.8583368489279792, 0.8643888291348538, 0.8584816072712075]\n"
     ]
    }
   ],
   "source": [
    "print(scores)"
   ]
  },
  {
   "cell_type": "code",
   "execution_count": 100,
   "metadata": {},
   "outputs": [
    {
     "name": "stdout",
     "output_type": "stream",
     "text": [
      "0.8738001474923874\n"
     ]
    }
   ],
   "source": [
    "print(max(scores))"
   ]
  },
  {
   "cell_type": "markdown",
   "metadata": {},
   "source": [
    "# IMPRESSIVE PREFORMANCE!!!!"
   ]
  },
  {
   "cell_type": "markdown",
   "metadata": {},
   "source": [
    "Like we expected, <b> RANDOM FORESTS </b> saved us from overfitting. Test set accuracy of <b>87%</b> is a tremendous improvement from our previous model( test set accuracy = 73%). Random Forests can not only be used for Prediction, but, can also be used for classification tasks for greater accuracy and less prone to underfiitng and overfitting problems "
   ]
  },
  {
   "cell_type": "markdown",
   "metadata": {},
   "source": [
    "Further improvements such as finding the best fit using cross validation, Regularization etc. Nevertheless,Those techniques are not included as I decided not to bring under the scope of this work. I hope You Enjoyed Reading my notebook!!! "
   ]
  },
  {
   "cell_type": "code",
   "execution_count": null,
   "metadata": {},
   "outputs": [],
   "source": []
  }
 ],
 "metadata": {
  "kernelspec": {
   "display_name": "Python 3",
   "language": "python",
   "name": "python3"
  },
  "language_info": {
   "codemirror_mode": {
    "name": "ipython",
    "version": 3
   },
   "file_extension": ".py",
   "mimetype": "text/x-python",
   "name": "python",
   "nbconvert_exporter": "python",
   "pygments_lexer": "ipython3",
   "version": "3.6.5"
  }
 },
 "nbformat": 4,
 "nbformat_minor": 2
}
